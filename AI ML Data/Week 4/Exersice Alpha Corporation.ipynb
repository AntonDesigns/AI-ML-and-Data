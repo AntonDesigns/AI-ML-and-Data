{
 "cells": [
  {
   "cell_type": "markdown",
   "id": "7b231187",
   "metadata": {},
   "source": [
    "Task: Absolute Variance Analysis - Data Loading"
   ]
  },
  {
   "cell_type": "code",
   "execution_count": null,
   "id": "11f183ab",
   "metadata": {},
   "outputs": [],
   "source": [
    "import pandas as pd\n",
    "import matplotlib.pyplot as plt\n",
    "import numpy as np\n",
    "\n",
    "data = pd.read_csv('Exersice Alpha Corporation.csv')\n",
    "\n",
    "print(\"Group's Data Check:\")\n",
    "print(f\"Loaded {len(data)} months of Alpha Corporation data\")\n",
    "print(\"\\nFirst 5 rows:\")\n",
    "print(data.head())\n",
    "\n",
    "# Extract the columns I need for my task\n",
    "months = data['Month']\n",
    "abs_variance = data['Abs_Variance (x Milion)']\n",
    "\n",
    "print(f\"\\nData ready for visualization\")\n",
    "print(f\"Months: {len(months)}\")\n",
    "print(f\"Variance values: {len(abs_variance)}\")"
   ]
  },
  {
   "cell_type": "markdown",
   "id": "ac6c2ba7",
   "metadata": {},
   "source": [
    "Basic Statistics Overview"
   ]
  },
  {
   "cell_type": "code",
   "execution_count": null,
   "id": "e177af53",
   "metadata": {},
   "outputs": [],
   "source": [
    "# Simple statistics for absolute variance\n",
    "print(\"ABSOLUTE VARIANCE STATISTICS\")\n",
    "print(\"=\"*45)\n",
    "\n",
    "print(f\"Average variance: {abs_variance.mean():.1f}M EUR\")\n",
    "print(f\"Largest positive variance: +{abs_variance.max():.1f}M EUR\")\n",
    "print(f\"Largest negative variance: {abs_variance.min():.1f}M EUR\")\n",
    "print(f\"Total range: {abs_variance.max() - abs_variance.min():.1f}M EUR\")\n",
    "\n",
    "positive_months = (abs_variance > 0).sum()\n",
    "negative_months = (abs_variance < 0).sum()\n",
    "\n",
    "print(f\"\\nMonths above plan: {positive_months}\")\n",
    "print(f\"Months below plan: {negative_months}\")\n",
    "\n",
    "print(f\"\\nData ready for bar chart visualization\")"
   ]
  },
  {
   "cell_type": "markdown",
   "id": "b28c6d89",
   "metadata": {},
   "source": [
    "Task: Monthly Absolute Variance Bar Chart"
   ]
  },
  {
   "cell_type": "code",
   "execution_count": null,
   "id": "aa75942c",
   "metadata": {},
   "outputs": [],
   "source": [
    "# Create the main visualization for task\n",
    "plt.figure(figsize=(14, 6))\n",
    "\n",
    "# Color coding: green = above plan, red = below plan\n",
    "colors = ['green' if x > 0 else 'red' for x in abs_variance]\n",
    "# Creates it\n",
    "bars = plt.bar(range(len(months)), abs_variance, color=colors, alpha=0.7, \n",
    "               edgecolor='black', linewidth=0.5)\n",
    "\n",
    "plt.axhline(y=0, color='black', linewidth=2)\n",
    "\n",
    "# Chart formatting\n",
    "plt.title('Alpha Corporation - Monthly Absolute Variance\\n(Group\\'s Analysis)', \n",
    "          fontsize=14, fontweight='bold')\n",
    "plt.xlabel('Month')\n",
    "plt.ylabel('Absolute Variance (EUR Millions)')\n",
    "plt.xticks(range(len(months)), months, rotation=45, ha='right')\n",
    "plt.grid(True, alpha=0.3, axis='y')\n",
    "\n",
    "# Add value labels on bars\n",
    "for i, (bar, value) in enumerate(zip(bars, abs_variance)):\n",
    "    height = bar.get_height()\n",
    "    plt.text(bar.get_x() + bar.get_width()/2., height + (1 if height > 0 else -3),\n",
    "             f'{value:.0f}M', ha='center', va='bottom' if height > 0 else 'top', \n",
    "             fontsize=8, fontweight='bold')\n",
    "\n",
    "# Simple legend\n",
    "from matplotlib.patches import Patch\n",
    "legend_elements = [Patch(facecolor='green', alpha=0.7, label='Above Plan'),\n",
    "                  Patch(facecolor='red', alpha=0.7, label='Below Plan')]\n",
    "plt.legend(handles=legend_elements)\n",
    "\n",
    "plt.tight_layout()\n",
    "plt.show()\n",
    "\n",
    "print(\"Monthly bar chart completed\")"
   ]
  }
 ],
 "metadata": {
  "language_info": {
   "name": "python"
  }
 },
 "nbformat": 4,
 "nbformat_minor": 5
}
