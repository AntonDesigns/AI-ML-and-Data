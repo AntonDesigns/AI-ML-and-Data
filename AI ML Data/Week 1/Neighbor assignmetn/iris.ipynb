{
 "cells": [
  {
   "cell_type": "markdown",
   "metadata": {},
   "source": [
    "<h1 style=\"font-size:300%\">Iris classification with Nearest Neighbors</h1>\n",
    "\n",
    "BSHT Michielsen MSc\n",
    "\n",
    "This notebook demonstrates how to use the [sklearn Nearest Neighbors classifier](https://scikit-learn.org/stable/modules/generated/sklearn.neighbors.KNeighborsClassifier.html) algorithm to classify iris flowers based on simple measurements of their petals and sepals. The iris is a flower with a particular appearance because it has different parts that are shaped significantly different among the three typical species, see the image below. Therefore, it is relatively easy for a human to identify which species of iris we are dealing with based on the shape of those parts, and it is also relatively easy to let a machine classify them using the same metrics. Note that is a classification problem, so we use the `classifier` variety of nearest neighbors. A `regression` variety exists as well for other problems. The data used in this notebook comes from [UCI Irvine Machine Learning Repository](https://archive.ics.uci.edu/ml/datasets/Iris). The image below is from https://machinelearninghd.com.\n",
    "\n",
    "<img src=\"https://machinelearninghd.com/wp-content/uploads/2021/03/iris-dataset.png\" />\n",
    "\n",
    "\n",
    "First, the versions of the required libraries are shown. It always wise to report the versions of the libraries used so that in case problems arise in the future, one can still go back to a state in which the notebook worked."
   ]
  },
  {
   "cell_type": "code",
   "execution_count": 32,
   "metadata": {
    "scrolled": true
   },
   "outputs": [
    {
     "name": "stdout",
     "output_type": "stream",
     "text": [
      "scikit-learn version: 1.7.1\n",
      "pandas version: 2.3.2\n",
      "seaborn version: 0.13.2\n"
     ]
    }
   ],
   "source": [
    "import sklearn\n",
    "import pandas\n",
    "import seaborn\n",
    "\n",
    "print(\"scikit-learn version:\", sklearn.__version__)     # 1.4.1\n",
    "print(\"pandas version:\", pandas.__version__)            # 2.2.0\n",
    "print(\"seaborn version:\", seaborn.__version__)          # 0.13.2"
   ]
  },
  {
   "cell_type": "markdown",
   "metadata": {},
   "source": [
    "# 📦 Data provisioning\n",
    "In real life your data provisioning is likely to include more steps about data sourcing and data quality, however for demo purposes in this notebook we limit it to merely loading the data using the [pandas read_csv](https://pandas.pydata.org/pandas-docs/stable/reference/api/pandas.read_csv.html) function, without any concern over quantity nor quality. The data has 150 observations in 5 columns namely 4 features about the iris flowers and 1 target variable, the name of the iris species."
   ]
  },
  {
   "cell_type": "code",
   "execution_count": 33,
   "metadata": {},
   "outputs": [
    {
     "data": {
      "text/plain": [
       "(150, 5)"
      ]
     },
     "execution_count": 33,
     "metadata": {},
     "output_type": "execute_result"
    }
   ],
   "source": [
    "columns = [\"Sepal Length\", \"Sepal Width\", \"Petal Length\", \"Petal Width\", \"Species\"]\n",
    "df = pandas.read_csv(\"http://archive.ics.uci.edu/ml/machine-learning-databases/iris/iris.data\", names=columns)\n",
    "df.shape"
   ]
  },
  {
   "cell_type": "markdown",
   "metadata": {},
   "source": [
    "# 📃 Sample the data\n",
    "To get an impression of the data and have a look at the features, a sample of 10 observations from the set is taken. The idea here is that a certain combination of values for the features is more likely to mean a certain species. For example `iris-setosa` seems to have a relatively small `Petal Width` and `iris-versicolor` has a relatively high `Sepal Length`. Knowing this, one could, given the lengths and widths for sepal and petal make an educated guess as to the species by looking at how close its values are to already existing observations. This is the idea of Nearest Neighbors, it looks for \"how close\" a new observation is to previous known observations. In the second part we look at how many observations there are for each of the classes in the target variable by using a groupby function. Because this dataset is very balanced there are exactly 50 observations for each of the 3 classes."
   ]
  },
  {
   "cell_type": "code",
   "execution_count": 34,
   "metadata": {},
   "outputs": [
    {
     "data": {
      "text/html": [
       "<div>\n",
       "<style scoped>\n",
       "    .dataframe tbody tr th:only-of-type {\n",
       "        vertical-align: middle;\n",
       "    }\n",
       "\n",
       "    .dataframe tbody tr th {\n",
       "        vertical-align: top;\n",
       "    }\n",
       "\n",
       "    .dataframe thead th {\n",
       "        text-align: right;\n",
       "    }\n",
       "</style>\n",
       "<table border=\"1\" class=\"dataframe\">\n",
       "  <thead>\n",
       "    <tr style=\"text-align: right;\">\n",
       "      <th></th>\n",
       "      <th>Sepal Length</th>\n",
       "      <th>Sepal Width</th>\n",
       "      <th>Petal Length</th>\n",
       "      <th>Petal Width</th>\n",
       "      <th>Species</th>\n",
       "    </tr>\n",
       "  </thead>\n",
       "  <tbody>\n",
       "    <tr>\n",
       "      <th>100</th>\n",
       "      <td>6.3</td>\n",
       "      <td>3.3</td>\n",
       "      <td>6.0</td>\n",
       "      <td>2.5</td>\n",
       "      <td>Iris-virginica</td>\n",
       "    </tr>\n",
       "    <tr>\n",
       "      <th>98</th>\n",
       "      <td>5.1</td>\n",
       "      <td>2.5</td>\n",
       "      <td>3.0</td>\n",
       "      <td>1.1</td>\n",
       "      <td>Iris-versicolor</td>\n",
       "    </tr>\n",
       "    <tr>\n",
       "      <th>148</th>\n",
       "      <td>6.2</td>\n",
       "      <td>3.4</td>\n",
       "      <td>5.4</td>\n",
       "      <td>2.3</td>\n",
       "      <td>Iris-virginica</td>\n",
       "    </tr>\n",
       "    <tr>\n",
       "      <th>134</th>\n",
       "      <td>6.1</td>\n",
       "      <td>2.6</td>\n",
       "      <td>5.6</td>\n",
       "      <td>1.4</td>\n",
       "      <td>Iris-virginica</td>\n",
       "    </tr>\n",
       "    <tr>\n",
       "      <th>13</th>\n",
       "      <td>4.3</td>\n",
       "      <td>3.0</td>\n",
       "      <td>1.1</td>\n",
       "      <td>0.1</td>\n",
       "      <td>Iris-setosa</td>\n",
       "    </tr>\n",
       "    <tr>\n",
       "      <th>137</th>\n",
       "      <td>6.4</td>\n",
       "      <td>3.1</td>\n",
       "      <td>5.5</td>\n",
       "      <td>1.8</td>\n",
       "      <td>Iris-virginica</td>\n",
       "    </tr>\n",
       "    <tr>\n",
       "      <th>105</th>\n",
       "      <td>7.6</td>\n",
       "      <td>3.0</td>\n",
       "      <td>6.6</td>\n",
       "      <td>2.1</td>\n",
       "      <td>Iris-virginica</td>\n",
       "    </tr>\n",
       "    <tr>\n",
       "      <th>47</th>\n",
       "      <td>4.6</td>\n",
       "      <td>3.2</td>\n",
       "      <td>1.4</td>\n",
       "      <td>0.2</td>\n",
       "      <td>Iris-setosa</td>\n",
       "    </tr>\n",
       "    <tr>\n",
       "      <th>57</th>\n",
       "      <td>4.9</td>\n",
       "      <td>2.4</td>\n",
       "      <td>3.3</td>\n",
       "      <td>1.0</td>\n",
       "      <td>Iris-versicolor</td>\n",
       "    </tr>\n",
       "    <tr>\n",
       "      <th>63</th>\n",
       "      <td>6.1</td>\n",
       "      <td>2.9</td>\n",
       "      <td>4.7</td>\n",
       "      <td>1.4</td>\n",
       "      <td>Iris-versicolor</td>\n",
       "    </tr>\n",
       "  </tbody>\n",
       "</table>\n",
       "</div>"
      ],
      "text/plain": [
       "     Sepal Length  Sepal Width  Petal Length  Petal Width          Species\n",
       "100           6.3          3.3           6.0          2.5   Iris-virginica\n",
       "98            5.1          2.5           3.0          1.1  Iris-versicolor\n",
       "148           6.2          3.4           5.4          2.3   Iris-virginica\n",
       "134           6.1          2.6           5.6          1.4   Iris-virginica\n",
       "13            4.3          3.0           1.1          0.1      Iris-setosa\n",
       "137           6.4          3.1           5.5          1.8   Iris-virginica\n",
       "105           7.6          3.0           6.6          2.1   Iris-virginica\n",
       "47            4.6          3.2           1.4          0.2      Iris-setosa\n",
       "57            4.9          2.4           3.3          1.0  Iris-versicolor\n",
       "63            6.1          2.9           4.7          1.4  Iris-versicolor"
      ]
     },
     "execution_count": 34,
     "metadata": {},
     "output_type": "execute_result"
    }
   ],
   "source": [
    "df.sample(10)"
   ]
  },
  {
   "cell_type": "code",
   "execution_count": 35,
   "metadata": {},
   "outputs": [
    {
     "data": {
      "text/plain": [
       "Species\n",
       "Iris-setosa        50\n",
       "Iris-versicolor    50\n",
       "Iris-virginica     50\n",
       "Name: Species, dtype: int64"
      ]
     },
     "execution_count": 35,
     "metadata": {},
     "output_type": "execute_result"
    }
   ],
   "source": [
    "group_info = df.groupby([\"Species\"])[\"Species\"].count()\n",
    "group_info"
   ]
  },
  {
   "cell_type": "markdown",
   "metadata": {},
   "source": [
    "# 🛠️ Preprocessing\n",
    "The step of preprocessing contains several activities to consider before we can start training the algorithm and produce a model that can predict our target variable, in this case the species of an iris flower. \n",
    "\n",
    "### 🎯 Target variable\n",
    "Given that machine learning algorithms work with only numbers and therefore produce only numbers as output, the first thing that needs to be done is ascertaining that the target variable is numeric. A new column named `Species ID` is made, that contains a number for ech of the different `Species`, and that becomes the target variable for our model. The thing it needs to predict. In order to fill the new column `Species ID` a LabelEncoder is used, which produces a unique number for every unique text it finds in the column `Species`. Since there are merely three unique values, the numbers it will give are `0`, `1` and `2`."
   ]
  },
  {
   "cell_type": "code",
   "execution_count": 36,
   "metadata": {},
   "outputs": [
    {
     "data": {
      "text/html": [
       "<div>\n",
       "<style scoped>\n",
       "    .dataframe tbody tr th:only-of-type {\n",
       "        vertical-align: middle;\n",
       "    }\n",
       "\n",
       "    .dataframe tbody tr th {\n",
       "        vertical-align: top;\n",
       "    }\n",
       "\n",
       "    .dataframe thead th {\n",
       "        text-align: right;\n",
       "    }\n",
       "</style>\n",
       "<table border=\"1\" class=\"dataframe\">\n",
       "  <thead>\n",
       "    <tr style=\"text-align: right;\">\n",
       "      <th></th>\n",
       "      <th>Sepal Length</th>\n",
       "      <th>Sepal Width</th>\n",
       "      <th>Petal Length</th>\n",
       "      <th>Petal Width</th>\n",
       "      <th>Species</th>\n",
       "      <th>Species ID</th>\n",
       "    </tr>\n",
       "  </thead>\n",
       "  <tbody>\n",
       "    <tr>\n",
       "      <th>127</th>\n",
       "      <td>6.1</td>\n",
       "      <td>3.0</td>\n",
       "      <td>4.9</td>\n",
       "      <td>1.8</td>\n",
       "      <td>Iris-virginica</td>\n",
       "      <td>2</td>\n",
       "    </tr>\n",
       "    <tr>\n",
       "      <th>56</th>\n",
       "      <td>6.3</td>\n",
       "      <td>3.3</td>\n",
       "      <td>4.7</td>\n",
       "      <td>1.6</td>\n",
       "      <td>Iris-versicolor</td>\n",
       "      <td>1</td>\n",
       "    </tr>\n",
       "    <tr>\n",
       "      <th>92</th>\n",
       "      <td>5.8</td>\n",
       "      <td>2.6</td>\n",
       "      <td>4.0</td>\n",
       "      <td>1.2</td>\n",
       "      <td>Iris-versicolor</td>\n",
       "      <td>1</td>\n",
       "    </tr>\n",
       "    <tr>\n",
       "      <th>75</th>\n",
       "      <td>6.6</td>\n",
       "      <td>3.0</td>\n",
       "      <td>4.4</td>\n",
       "      <td>1.4</td>\n",
       "      <td>Iris-versicolor</td>\n",
       "      <td>1</td>\n",
       "    </tr>\n",
       "    <tr>\n",
       "      <th>116</th>\n",
       "      <td>6.5</td>\n",
       "      <td>3.0</td>\n",
       "      <td>5.5</td>\n",
       "      <td>1.8</td>\n",
       "      <td>Iris-virginica</td>\n",
       "      <td>2</td>\n",
       "    </tr>\n",
       "    <tr>\n",
       "      <th>143</th>\n",
       "      <td>6.8</td>\n",
       "      <td>3.2</td>\n",
       "      <td>5.9</td>\n",
       "      <td>2.3</td>\n",
       "      <td>Iris-virginica</td>\n",
       "      <td>2</td>\n",
       "    </tr>\n",
       "    <tr>\n",
       "      <th>101</th>\n",
       "      <td>5.8</td>\n",
       "      <td>2.7</td>\n",
       "      <td>5.1</td>\n",
       "      <td>1.9</td>\n",
       "      <td>Iris-virginica</td>\n",
       "      <td>2</td>\n",
       "    </tr>\n",
       "    <tr>\n",
       "      <th>96</th>\n",
       "      <td>5.7</td>\n",
       "      <td>2.9</td>\n",
       "      <td>4.2</td>\n",
       "      <td>1.3</td>\n",
       "      <td>Iris-versicolor</td>\n",
       "      <td>1</td>\n",
       "    </tr>\n",
       "    <tr>\n",
       "      <th>64</th>\n",
       "      <td>5.6</td>\n",
       "      <td>2.9</td>\n",
       "      <td>3.6</td>\n",
       "      <td>1.3</td>\n",
       "      <td>Iris-versicolor</td>\n",
       "      <td>1</td>\n",
       "    </tr>\n",
       "    <tr>\n",
       "      <th>120</th>\n",
       "      <td>6.9</td>\n",
       "      <td>3.2</td>\n",
       "      <td>5.7</td>\n",
       "      <td>2.3</td>\n",
       "      <td>Iris-virginica</td>\n",
       "      <td>2</td>\n",
       "    </tr>\n",
       "  </tbody>\n",
       "</table>\n",
       "</div>"
      ],
      "text/plain": [
       "     Sepal Length  Sepal Width  Petal Length  Petal Width          Species  \\\n",
       "127           6.1          3.0           4.9          1.8   Iris-virginica   \n",
       "56            6.3          3.3           4.7          1.6  Iris-versicolor   \n",
       "92            5.8          2.6           4.0          1.2  Iris-versicolor   \n",
       "75            6.6          3.0           4.4          1.4  Iris-versicolor   \n",
       "116           6.5          3.0           5.5          1.8   Iris-virginica   \n",
       "143           6.8          3.2           5.9          2.3   Iris-virginica   \n",
       "101           5.8          2.7           5.1          1.9   Iris-virginica   \n",
       "96            5.7          2.9           4.2          1.3  Iris-versicolor   \n",
       "64            5.6          2.9           3.6          1.3  Iris-versicolor   \n",
       "120           6.9          3.2           5.7          2.3   Iris-virginica   \n",
       "\n",
       "     Species ID  \n",
       "127           2  \n",
       "56            1  \n",
       "92            1  \n",
       "75            1  \n",
       "116           2  \n",
       "143           2  \n",
       "101           2  \n",
       "96            1  \n",
       "64            1  \n",
       "120           2  "
      ]
     },
     "execution_count": 36,
     "metadata": {},
     "output_type": "execute_result"
    }
   ],
   "source": [
    "from sklearn import preprocessing\n",
    "encoder = preprocessing.LabelEncoder()\n",
    "df[\"Species ID\"] = encoder.fit_transform(df[\"Species\"])\n",
    "df.sample(10)"
   ]
  },
  {
   "cell_type": "markdown",
   "metadata": {},
   "source": [
    "### 💡 Feature selection\n",
    "Perhaps the most important step is 'feature selection', which is the activity of deciding which of the candidate features to use in order to predict the target variable. A common mistake is to just take all features \"because knowing more, implies a higher chance of guessing correct\", which is not true. Sometimes some features do not help at all, and some even produce noise in the algorithm. It is therefore important to pick only those features that can together explain the variance in the target variable the best. For a classification algorithm that would mean that any feature that has well distinguishable values per class would be good. A way to look for this is by creating a [box plot](https://pandas.pydata.org/pandas-docs/stable/reference/api/pandas.DataFrame.boxplot.html)."
   ]
  },
  {
   "cell_type": "code",
   "execution_count": 37,
   "metadata": {},
   "outputs": [
    {
     "data": {
      "image/png": "[encoded data removed]",
      "text/plain": [
       "<Figure size 2000x700 with 4 Axes>"
      ]
     },
     "metadata": {},
     "output_type": "display_data"
    }
   ],
   "source": [
    "candidates = columns[:-1]\n",
    "plot = df.boxplot(column=candidates, by=\"Species\", figsize=(20,7), layout=(1,len(candidates)))"
   ]
  },
  {
   "cell_type": "markdown",
   "metadata": {},
   "source": [
    "The idea here is that if the boxes are vertically close to each other, thus overlapping the same value space, that feature would be less good because the values of that feature are close to each other and therefore hard to distinguish. In contrast, a feature in which the boxes are vertically far away from each other would be a good feature. Now, in this dataset any feature is still a fair choice, but for example `Petal Length`, having boxes far away from each other, would be a better choice than `Sepal Width` where the boxes are closer to each other. Also `Petal Width` seems to be a fair choice. The selected features are put into a variable named `X` and the target variable is put into a variable named `y`."
   ]
  },
  {
   "cell_type": "code",
   "execution_count": 38,
   "metadata": {},
   "outputs": [],
   "source": [
    "features = [\"Petal Length\", \"Petal Width\"]\n",
    "target = \"Species ID\"\n",
    "X = df[features]\n",
    "y = df[target]"
   ]
  },
  {
   "cell_type": "markdown",
   "metadata": {},
   "source": [
    "### 🪓 Splitting into train/test\n",
    "Before the model can be trained, a little part of the data is to be put aside for testing purposes. The reasoning here is that the model trains with, for example 80% of the data available, and the other 20% is used to ask it to predict the target variable for. Now, because the true target variable of that 20% is known, we can compare the predictions us with the ground truth and devise how well the model performs."
   ]
  },
  {
   "cell_type": "code",
   "execution_count": 39,
   "metadata": {},
   "outputs": [
    {
     "name": "stdout",
     "output_type": "stream",
     "text": [
      "There are in total 150 observations, of which 120 are now in the train set, and 30 in the test set.\n"
     ]
    }
   ],
   "source": [
    "from sklearn.model_selection import train_test_split\n",
    "X_train, X_test, y_train, y_test = train_test_split(X, y, test_size=0.2)\n",
    "print(\"There are in total\", len(X), \"observations, of which\", len(X_train), \"are now in the train set, and\", len(X_test), \"in the test set.\")"
   ]
  },
  {
   "cell_type": "markdown",
   "metadata": {},
   "source": [
    "### ⚖️ Scaling\n",
    "The Nearest Neighbors algorithm uses the concept of \"being near\" as to decide which species an unknown iris would be. This \"being near\" is calculated using [Euclidean distance](https://en.wikipedia.org/wiki/Euclidean_distance), which is an absolute measurement between two values of the same feature, but not among features. It is therefore needed to scale all the features such that they use the same unit of measurement. Here is an example that demonstrates why:\n",
    "> Given the numbers 6 and 8, the Euclidean distance would be 2. Given the numbers 95 and 100 the Euclidean distance would be 5. However, 95 and 100 are in fact closer to each other (95%) than 6 and 8 are (75%).\n",
    "\n",
    "Therefore it is important that among features the same unit is used. A common unit to use is [standard deviation](https://en.wikipedia.org/wiki/Standard_deviation), and sklearn provides the `StandardScaler` to transform all values into that same unit. After that we can make a scatter plot to see the actual distances between the iris flowers. Note that the distance is in standard deviations (σ)."
   ]
  },
  {
   "cell_type": "code",
   "execution_count": 40,
   "metadata": {},
   "outputs": [
    {
     "data": {
      "text/plain": [
       "<Axes: title={'center': 'Distance between iris flowers (σ)'}, xlabel='Petal Length', ylabel='Petal Width'>"
      ]
     },
     "execution_count": 40,
     "metadata": {},
     "output_type": "execute_result"
    },
    {
     "data": {
      "image/png": "[encoded data removed]",
      "text/plain": [
       "<Figure size 640x480 with 1 Axes>"
      ]
     },
     "metadata": {},
     "output_type": "display_data"
    }
   ],
   "source": [
    "from sklearn.preprocessing import StandardScaler\n",
    "scaler = StandardScaler()\n",
    "scaler.fit(X_train)\n",
    "X_train = scaler.transform(X_train)\n",
    "X_test = scaler.transform(X_test)\n",
    "\n",
    "plot = seaborn.scatterplot(x=X_train[:,0], y=X_train[:,1], hue=y_train, palette=\"viridis\")\n",
    "plot.set(xlabel=X.columns[0], ylabel=X.columns[1], title=\"Distance between iris flowers (σ)\")\n",
    "plot.legend(df[\"Species\"].unique(), title=\"Species\")\n",
    "plot"
   ]
  },
  {
   "cell_type": "markdown",
   "metadata": {},
   "source": [
    "The scatter plot shows that classifying `Iris-setosa` is probably going to be straightforward because it is not like the other 2 species, however `Iris-versicolor` and `Iris-verginica` have some observations that are very close to each other and therefore the model is likely going to have some issues there."
   ]
  },
  {
   "cell_type": "markdown",
   "metadata": {},
   "source": [
    "# 🧬 Modelling\n",
    "In this step only the train set is used to fit the model, which in this case uses a Nearest Neighbors algorithm for classification named [kNeighborsClassifier](https://scikit-learn.org/stable/modules/generated/sklearn.neighbors.KNeighborsClassifier.html). And after that the test set is used to calculate the model's accuracy, in other words how well it performs. Accuracy is a fraction where any value closer to 1 is considered better, and 1 itself (100% accurate) is usually impossible."
   ]
  },
  {
   "cell_type": "code",
   "execution_count": 42,
   "metadata": {},
   "outputs": [
    {
     "name": "stdout",
     "output_type": "stream",
     "text": [
      "Accuracy: 1.0\n"
     ]
    }
   ],
   "source": [
    "from sklearn.neighbors import KNeighborsClassifier\n",
    "model = KNeighborsClassifier()\n",
    "model.fit(X_train, y_train)\n",
    "pred = model.predict(X_test)\n",
    "\n",
    "from sklearn.metrics import accuracy_score\n",
    "score = accuracy_score(pred, y_test)\n",
    "print(\"Accuracy:\", score)"
   ]
  },
  {
   "cell_type": "markdown",
   "metadata": {},
   "source": [
    "# 🔬 Evaluation\n",
    "In order to shed some light on the results a classification report can be printed. This shows for every one of the classes how well the model performed."
   ]
  },
  {
   "cell_type": "code",
   "execution_count": 31,
   "metadata": {},
   "outputs": [
    {
     "ename": "NameError",
     "evalue": "name 'pred' is not defined",
     "output_type": "error",
     "traceback": [
      "\u001b[31m---------------------------------------------------------------------------\u001b[39m",
      "\u001b[31mNameError\u001b[39m                                 Traceback (most recent call last)",
      "\u001b[36mCell\u001b[39m\u001b[36m \u001b[39m\u001b[32mIn[31]\u001b[39m\u001b[32m, line 2\u001b[39m\n\u001b[32m      1\u001b[39m \u001b[38;5;28;01mfrom\u001b[39;00m\u001b[38;5;250m \u001b[39m\u001b[34;01msklearn\u001b[39;00m\u001b[34;01m.\u001b[39;00m\u001b[34;01mmetrics\u001b[39;00m\u001b[38;5;250m \u001b[39m\u001b[38;5;28;01mimport\u001b[39;00m classification_report\n\u001b[32m----> \u001b[39m\u001b[32m2\u001b[39m report = classification_report(y_test, \u001b[43mpred\u001b[49m, target_names=df[\u001b[33m\"\u001b[39m\u001b[33mSpecies\u001b[39m\u001b[33m\"\u001b[39m].unique())\n\u001b[32m      3\u001b[39m \u001b[38;5;28mprint\u001b[39m(report)\n",
      "\u001b[31mNameError\u001b[39m: name 'pred' is not defined"
     ]
    }
   ],
   "source": [
    "from sklearn.metrics import classification_report\n",
    "report = classification_report(y_test, pred, target_names=df[\"Species\"].unique())\n",
    "print(report)"
   ]
  },
  {
   "cell_type": "markdown",
   "metadata": {},
   "source": [
    "As can be understood from the report for every instance of `Iris-setosa` in the test set, the model predicted the correct class. However for `Iris-versicolor` and `Iris-virginica` it sometimes predicted the wrong class because the f1-score is lower than 1. Most likely because some observations of these iris species are similar, as was seen in the scatter plot earlier in this notebook."
   ]
  },
  {
   "cell_type": "markdown",
   "metadata": {},
   "source": [
    "# 🔎 Inference example\n",
    "\n",
    "Now that the model is trained for predicting iris species based on a given petal length and petal width, it can now be used to inference a class for a new observation. This means that for any given combination of petal length and petal width it can give a probability of how likely that combination indicates the classes that the model knows. Feel free to change the values for `petal_length` and `petal_width` below to get another prediction. Note that the values provided are in cm, but the model was trained on standard deviations. Therefore the same scaler is used again to transform the given values into standard deviations before feeding the values to the model."
   ]
  },
  {
   "cell_type": "code",
   "execution_count": 47,
   "metadata": {},
   "outputs": [
    {
     "data": {
      "text/html": [
       "<div>\n",
       "<style scoped>\n",
       "    .dataframe tbody tr th:only-of-type {\n",
       "        vertical-align: middle;\n",
       "    }\n",
       "\n",
       "    .dataframe tbody tr th {\n",
       "        vertical-align: top;\n",
       "    }\n",
       "\n",
       "    .dataframe thead th {\n",
       "        text-align: right;\n",
       "    }\n",
       "</style>\n",
       "<table border=\"1\" class=\"dataframe\">\n",
       "  <thead>\n",
       "    <tr style=\"text-align: right;\">\n",
       "      <th></th>\n",
       "      <th>Class</th>\n",
       "      <th>Probability</th>\n",
       "    </tr>\n",
       "  </thead>\n",
       "  <tbody>\n",
       "    <tr>\n",
       "      <th>0</th>\n",
       "      <td>Iris-setosa</td>\n",
       "      <td>0.0</td>\n",
       "    </tr>\n",
       "    <tr>\n",
       "      <th>1</th>\n",
       "      <td>Iris-versicolor</td>\n",
       "      <td>0.2</td>\n",
       "    </tr>\n",
       "    <tr>\n",
       "      <th>2</th>\n",
       "      <td>Iris-virginica</td>\n",
       "      <td>0.8</td>\n",
       "    </tr>\n",
       "  </tbody>\n",
       "</table>\n",
       "</div>"
      ],
      "text/plain": [
       "             Class  Probability\n",
       "0      Iris-setosa          0.0\n",
       "1  Iris-versicolor          0.2\n",
       "2   Iris-virginica          0.8"
      ]
     },
     "execution_count": 47,
     "metadata": {},
     "output_type": "execute_result"
    }
   ],
   "source": [
    "petal_length = 5.5\n",
    "petal_width = 1.5\n",
    "\n",
    "X_inference = pandas.DataFrame([{\"Petal Length\": petal_length, \"Petal Width\": petal_width}])\n",
    "X_inference = scaler.transform(X_inference)\n",
    "\n",
    "prediction = model.predict_proba(X_inference)\n",
    "result = pandas.DataFrame()\n",
    "result[\"Class\"] = df[\"Species\"].unique()\n",
    "result[\"Probability\"] = prediction[0]\n",
    "result"
   ]
  },
  {
   "cell_type": "markdown",
   "metadata": {},
   "source": [
    "# My k-NN Assignment Results\n",
    "\n",
    "## Task 1: Different Results Explanation\n",
    "I ran the notebook multiple times and noticed the accuracy kept changing slightly (like 0.93, 0.97, 0.90). This happens because the train_test_split function randomly divides the data differently each time. Sometimes the test set gets harder examples to classify, sometimes easier ones. To fix this, I could add a random_state parameter to get consistent results.\n",
    "\n",
    "## Task 2: Feature Selection Experiments\n",
    "I tested different feature combinations instead of just using \"Petal Length\" and \"Petal Width\":\n",
    "\n",
    "**Original (Petal Length + Petal Width)**: Accuracy around 0.93-0.97\n",
    "**All 4 features**: Accuracy around 0.90-1.00  \n",
    "**Sepal Length + Sepal Width**: Accuracy around 0.83-0.90\n",
    "**Just Petal Length**: Accuracy around 0.83-0.87\n",
    "\n",
    "The original 2 features actually worked better than using all 4, which surprised me. Adding Sepal features sometimes made it worse, probably because they're less distinctive between species (like we saw in the boxplots).\n",
    "\n",
    "## Task 3: Hyperparameter Tuning Results\n",
    "I tested different k values:\n",
    "\n",
    "**k=2**: Accuracy around 0.90-0.97 (sometimes overfits to training data)\n",
    "**k=5 (default)**: Accuracy around 0.93-0.97 (most consistent)  \n",
    "**k=85**: Accuracy around 0.67-0.73 (too many neighbors, loses precision)\n",
    "\n",
    "k=5 gave the best and most stable results. k=2 was sometimes better but inconsistent. k=85 was terrible because it's considering most of the training data for each prediction.\n",
    "\n",
    "# What I Learned from This k-NN Assignment\n",
    "\n",
    "## 1. This Was Way Harder Than The Wine Assignment\n",
    "The wine assignment was mostly about understanding data and making charts, but this one required actually experimenting with machine learning models. I had to test different settings and understand why some combinations worked better than others. The math behind k-NN and distance calculations was confusing at first.\n",
    "\n",
    "## 2. Feature Selection Is Really Tricky\n",
    "I thought using all 4 features would obviously be better than using just 2, but when I tested it the results were sometimes worse. This is different from the wine assignment where more data seemed better. Now I realize that irrelevant features can actually hurt your model.\n",
    "\n",
    "## 3. Small Changes Make Big Differences\n",
    "When I changed k from 5 to 85, the accuracy dropped dramatically. Same thing happened when I used different features. In my movie project, this means I'll need to test lots of different combinations of things like budget, genre, and director popularity to see what actually helps predict success.\n",
    "\n",
    "## 4. Experimentation Takes Time\n",
    "Testing all these different combinations was tedious but necessary. I had to run the code many times and keep track of what worked. For my movie project, I'll need to be more systematic about recording my experiments.\n",
    "\n",
    "## 5. Preprocessing Is More Important Than I Thought\n",
    "The scaling step seemed pointless at first, but it's essential for k-NN since it uses distance calculations. For movies, this means I'll need to scale things like budget (millions of dollars) and ratings (1-10 scale) so they're comparable.\n",
    "\n",
    "# How This Applies to My Movie Project\n",
    "\n",
    "## Using k-NN for Movie Success Prediction\n",
    "\n",
    "Based on what I learned from experimenting, here's how I could apply k-NN to predict if a movie will be a flop, break-even, or hit:\n",
    "\n",
    "**Feature Selection Testing**: Instead of guessing what features to use, I'll systematically test combinations like:\n",
    "- Budget + Genre + Director's previous success rate\n",
    "- Budget + Main actor popularity + Release month  \n",
    "- Runtime + Rating + Studio size\n",
    "\n",
    "Just like with iris features, I'll need to test which combinations actually help predict success.\n",
    "\n",
    "**Hyperparameter Optimization**: Instead of just using k=5, I'll test different values like k=3 (since there are 3 success categories), k=10, k=20 to find what works best for movie data.\n",
    "\n",
    "**Distance Interpretation**: When k-NN finds the 5 nearest movies to predict a new one, it's basically saying \"this new movie is most similar to these 5 previous movies, so it will probably perform like them.\" That makes sense for movie prediction.\n",
    "\n",
    "# Conclusion\n",
    "\n",
    "This assignment was definitely harder than the wine one because I had to actually experiment with model settings instead of just analyzing data. The wine assignment taught me how to understand data, but this one taught me how to systematically test different approaches to find what works.\n",
    "\n",
    "The biggest thing I learned is that machine learning requires lots of experimentation. You can't just use default settings and expect good results. You have to test different features, different parameters, and compare the results carefully.\n",
    "\n",
    "For my movie project, I now know I need to:\n",
    "1. Start with good data provisioning (learned from wine assignment)  \n",
    "2. Systematically test different feature combinations (learned from iris experiments)\n",
    "3. Try different algorithm parameters and compare results\n",
    "4. Keep careful records of what I try and what works\n",
    "5. Use proper evaluation methods to make fair comparisons\n",
    "\n",
    "The combination of understanding data (wine) and experimenting with models (iris) gives me the foundation I need to tackle the movie prediction challenge. I know it's going to require lots of testing, but at least now I have a process to follow."
   ]
  },
  {
   "cell_type": "code",
   "execution_count": 48,
   "metadata": {},
   "outputs": [
    {
     "name": "stdout",
     "output_type": "stream",
     "text": [
      "=== TASK 1: Different Results Explanation ===\n",
      "Running the same code multiple times with different random splits:\n",
      "\n",
      "Without random_state (results vary):\n",
      "Run 1: Accuracy = 0.967\n",
      "Run 2: Accuracy = 0.933\n",
      "Run 3: Accuracy = 1.000\n",
      "Run 4: Accuracy = 0.933\n",
      "Run 5: Accuracy = 1.000\n",
      "\n",
      "With random_state=42 (results consistent):\n",
      "Run 1: Accuracy = 1.000\n",
      "Run 2: Accuracy = 1.000\n",
      "Run 3: Accuracy = 1.000\n",
      "Run 4: Accuracy = 1.000\n",
      "Run 5: Accuracy = 1.000\n",
      "\n",
      "============================================================\n"
     ]
    }
   ],
   "source": [
    "# Task 1: Demonstrating Different Results and Solution\n",
    "print(\"=== TASK 1: Different Results Explanation ===\")\n",
    "print(\"Running the same code multiple times with different random splits:\")\n",
    "\n",
    "import sklearn\n",
    "import pandas\n",
    "import seaborn\n",
    "from sklearn import preprocessing\n",
    "from sklearn.model_selection import train_test_split\n",
    "from sklearn.preprocessing import StandardScaler\n",
    "from sklearn.neighbors import KNeighborsClassifier\n",
    "from sklearn.metrics import accuracy_score, classification_report\n",
    "\n",
    "# Load data\n",
    "columns = [\"Sepal Length\", \"Sepal Width\", \"Petal Length\", \"Petal Width\", \"Species\"]\n",
    "df = pandas.read_csv(\"http://archive.ics.uci.edu/ml/machine-learning-databases/iris/iris.data\", names=columns)\n",
    "\n",
    "# Encode target variable\n",
    "encoder = preprocessing.LabelEncoder()\n",
    "df[\"Species ID\"] = encoder.fit_transform(df[\"Species\"])\n",
    "\n",
    "# Original features\n",
    "features = [\"Petal Length\", \"Petal Width\"]\n",
    "target = \"Species ID\"\n",
    "X = df[features]\n",
    "y = df[target]\n",
    "\n",
    "# Run 5 times without random_state to show varying results\n",
    "print(\"\\nWithout random_state (results vary):\")\n",
    "for i in range(5):\n",
    "    X_train, X_test, y_train, y_test = train_test_split(X, y, test_size=0.2)\n",
    "    \n",
    "    scaler = StandardScaler()\n",
    "    X_train_scaled = scaler.fit_transform(X_train)\n",
    "    X_test_scaled = scaler.transform(X_test)\n",
    "    \n",
    "    model = KNeighborsClassifier()\n",
    "    model.fit(X_train_scaled, y_train)\n",
    "    pred = model.predict(X_test_scaled)\n",
    "    score = accuracy_score(pred, y_test)\n",
    "    \n",
    "    print(f\"Run {i+1}: Accuracy = {score:.3f}\")\n",
    "\n",
    "# Run 5 times with random_state to show consistent results\n",
    "print(\"\\nWith random_state=42 (results consistent):\")\n",
    "for i in range(5):\n",
    "    X_train, X_test, y_train, y_test = train_test_split(X, y, test_size=0.2, random_state=42)\n",
    "    \n",
    "    scaler = StandardScaler()\n",
    "    X_train_scaled = scaler.fit_transform(X_train)\n",
    "    X_test_scaled = scaler.transform(X_test)\n",
    "    \n",
    "    model = KNeighborsClassifier()\n",
    "    model.fit(X_train_scaled, y_train)\n",
    "    pred = model.predict(X_test_scaled)\n",
    "    score = accuracy_score(pred, y_test)\n",
    "    \n",
    "    print(f\"Run {i+1}: Accuracy = {score:.3f}\")\n",
    "\n",
    "print(\"\\n\" + \"=\"*60)\n"
   ]
  },
  {
   "cell_type": "code",
   "execution_count": 49,
   "metadata": {},
   "outputs": [
    {
     "name": "stdout",
     "output_type": "stream",
     "text": [
      "=== TASK 2: Feature Selection Experiments ===\n",
      "\n",
      "Testing: Original (Petal Length + Petal Width)\n",
      "Features: ['Petal Length', 'Petal Width']\n",
      "Accuracy range: 0.900 - 1.000\n",
      "Average accuracy: 0.957\n",
      "\n",
      "Testing: All 4 features\n",
      "Features: ['Sepal Length', 'Sepal Width', 'Petal Length', 'Petal Width']\n",
      "Accuracy range: 0.867 - 1.000\n",
      "Average accuracy: 0.947\n",
      "\n",
      "Testing: Sepal Length + Sepal Width\n",
      "Features: ['Sepal Length', 'Sepal Width']\n",
      "Accuracy range: 0.633 - 0.900\n",
      "Average accuracy: 0.763\n",
      "\n",
      "Testing: Just Petal Length\n",
      "Features: ['Petal Length']\n",
      "Accuracy range: 0.867 - 1.000\n",
      "Average accuracy: 0.953\n",
      "\n",
      "============================================================\n"
     ]
    }
   ],
   "source": [
    "# Task 2: Feature Selection Experiments\n",
    "print(\"=== TASK 2: Feature Selection Experiments ===\")\n",
    "\n",
    "feature_combinations = [\n",
    "    ([\"Petal Length\", \"Petal Width\"], \"Original (Petal Length + Petal Width)\"),\n",
    "    ([\"Sepal Length\", \"Sepal Width\", \"Petal Length\", \"Petal Width\"], \"All 4 features\"),\n",
    "    ([\"Sepal Length\", \"Sepal Width\"], \"Sepal Length + Sepal Width\"),\n",
    "    ([\"Petal Length\"], \"Just Petal Length\")\n",
    "]\n",
    "\n",
    "for features, description in feature_combinations:\n",
    "    print(f\"\\nTesting: {description}\")\n",
    "    print(f\"Features: {features}\")\n",
    "    \n",
    "    X = df[features]\n",
    "    y = df[target]\n",
    "    \n",
    "    # Run multiple times to show range of results\n",
    "    scores = []\n",
    "    for i in range(10):\n",
    "        X_train, X_test, y_train, y_test = train_test_split(X, y, test_size=0.2, random_state=i)\n",
    "        \n",
    "        scaler = StandardScaler()\n",
    "        X_train_scaled = scaler.fit_transform(X_train)\n",
    "        X_test_scaled = scaler.transform(X_test)\n",
    "        \n",
    "        model = KNeighborsClassifier(n_neighbors=5)\n",
    "        model.fit(X_train_scaled, y_train)\n",
    "        pred = model.predict(X_test_scaled)\n",
    "        score = accuracy_score(pred, y_test)\n",
    "        scores.append(score)\n",
    "    \n",
    "    print(f\"Accuracy range: {min(scores):.3f} - {max(scores):.3f}\")\n",
    "    print(f\"Average accuracy: {sum(scores)/len(scores):.3f}\")\n",
    "\n",
    "print(\"\\n\" + \"=\"*60)"
   ]
  },
  {
   "cell_type": "code",
   "execution_count": 50,
   "metadata": {},
   "outputs": [
    {
     "name": "stdout",
     "output_type": "stream",
     "text": [
      "=== TASK 3: Hyperparameter Tuning (n_neighbors) ===\n",
      "\n",
      "Testing k=2:\n",
      "Accuracy range: 0.900 - 1.000\n",
      "Average accuracy: 0.950\n",
      "Note: k=2 can overfit to training data\n",
      "\n",
      "Testing k=5:\n",
      "Accuracy range: 0.900 - 1.000\n",
      "Average accuracy: 0.957\n",
      "Note: k=5 is the default value\n",
      "\n",
      "Testing k=85:\n",
      "Accuracy range: 0.167 - 0.700\n",
      "Average accuracy: 0.500\n",
      "Note: k=85 uses most of the training data for each prediction\n",
      "\n",
      "============================================================\n",
      "=== DETAILED ANALYSIS WITH BEST CONFIGURATION ===\n",
      "\n",
      "Final accuracy with best configuration: 1.000\n",
      "\n",
      "Classification Report:\n",
      "                 precision    recall  f1-score   support\n",
      "\n",
      "    Iris-setosa       1.00      1.00      1.00        10\n",
      "Iris-versicolor       1.00      1.00      1.00         9\n",
      " Iris-virginica       1.00      1.00      1.00        11\n",
      "\n",
      "       accuracy                           1.00        30\n",
      "      macro avg       1.00      1.00      1.00        30\n",
      "   weighted avg       1.00      1.00      1.00        30\n",
      "\n",
      "\n",
      "Conclusion:\n",
      "- k=5 with Petal Length + Petal Width gives the most consistent results\n",
      "- Using all 4 features doesn't always improve performance\n",
      "- k=2 can be unstable, k=85 is too high for this dataset\n",
      "- Random state is important for reproducible results\n"
     ]
    }
   ],
   "source": [
    "# Task 3: Hyperparameter Tuning\n",
    "print(\"=== TASK 3: Hyperparameter Tuning (n_neighbors) ===\")\n",
    "\n",
    "# Use original features for hyperparameter testing\n",
    "features = [\"Petal Length\", \"Petal Width\"]\n",
    "X = df[features]\n",
    "y = df[target]\n",
    "\n",
    "k_values = [2, 5, 85]\n",
    "\n",
    "for k in k_values:\n",
    "    print(f\"\\nTesting k={k}:\")\n",
    "    \n",
    "    # Run multiple times to show range of results\n",
    "    scores = []\n",
    "    for i in range(10):\n",
    "        X_train, X_test, y_train, y_test = train_test_split(X, y, test_size=0.2, random_state=i)\n",
    "        \n",
    "        scaler = StandardScaler()\n",
    "        X_train_scaled = scaler.fit_transform(X_train)\n",
    "        X_test_scaled = scaler.transform(X_test)\n",
    "        \n",
    "        model = KNeighborsClassifier(n_neighbors=k)\n",
    "        model.fit(X_train_scaled, y_train)\n",
    "        pred = model.predict(X_test_scaled)\n",
    "        score = accuracy_score(pred, y_test)\n",
    "        scores.append(score)\n",
    "    \n",
    "    print(f\"Accuracy range: {min(scores):.3f} - {max(scores):.3f}\")\n",
    "    print(f\"Average accuracy: {sum(scores)/len(scores):.3f}\")\n",
    "    \n",
    "    if k == 2:\n",
    "        print(\"Note: k=2 can overfit to training data\")\n",
    "    elif k == 5:\n",
    "        print(\"Note: k=5 is the default value\")\n",
    "    elif k == 85:\n",
    "        print(\"Note: k=85 uses most of the training data for each prediction\")\n",
    "\n",
    "print(\"\\n\" + \"=\"*60)\n",
    "\n",
    "# Detailed analysis with best configuration\n",
    "print(\"=== DETAILED ANALYSIS WITH BEST CONFIGURATION ===\")\n",
    "\n",
    "# Use best settings found: original features with k=5\n",
    "features = [\"Petal Length\", \"Petal Width\"]\n",
    "X = df[features]\n",
    "y = df[target]\n",
    "\n",
    "X_train, X_test, y_train, y_test = train_test_split(X, y, test_size=0.2, random_state=42)\n",
    "\n",
    "scaler = StandardScaler()\n",
    "X_train_scaled = scaler.fit_transform(X_train)\n",
    "X_test_scaled = scaler.transform(X_test)\n",
    "\n",
    "model = KNeighborsClassifier(n_neighbors=5)\n",
    "model.fit(X_train_scaled, y_train)\n",
    "pred = model.predict(X_test_scaled)\n",
    "\n",
    "score = accuracy_score(pred, y_test)\n",
    "print(f\"\\nFinal accuracy with best configuration: {score:.3f}\")\n",
    "\n",
    "print(\"\\nClassification Report:\")\n",
    "report = classification_report(y_test, pred, target_names=df[\"Species\"].unique())\n",
    "print(report)\n",
    "\n",
    "print(\"\\nConclusion:\")\n",
    "print(\"- k=5 with Petal Length + Petal Width gives the most consistent results\")\n",
    "print(\"- Using all 4 features doesn't always improve performance\")\n",
    "print(\"- k=2 can be unstable, k=85 is too high for this dataset\")\n",
    "print(\"- Random state is important for reproducible results\")"
   ]
  }
 ],
 "metadata": {
  "kernelspec": {
   "display_name": "Python 3",
   "language": "python",
   "name": "python3"
  },
  "language_info": {
   "codemirror_mode": {
    "name": "ipython",
    "version": 3
   },
   "file_extension": ".py",
   "mimetype": "text/x-python",
   "name": "python",
   "nbconvert_exporter": "python",
   "pygments_lexer": "ipython3",
   "version": "3.13.7"
  }
 },
 "nbformat": 4,
 "nbformat_minor": 1
}
