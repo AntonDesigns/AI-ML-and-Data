{
 "cells": [
  {
   "cell_type": "markdown",
   "id": "dd9efc8c",
   "metadata": {},
   "source": [
    "# Example notebook on Wine dataset for Phase 2 - Data Provisioning"
   ]
  },
  {
   "cell_type": "markdown",
   "id": "55fcacd8",
   "metadata": {},
   "source": [
    "## Introduction"
   ]
  },
  {
   "cell_type": "markdown",
   "id": "49628706",
   "metadata": {},
   "source": [
    "This notebook describes the main steps to take and consider in order to complete the Data Provisioning phase, comprising 4 steps. The questions below are answered in these 4 steps:\n",
    "    \n",
    "- What requirements does your data has to meet in order to be able to make a prediction (determine your target variable first) based on the dataset?\n",
    "- How do you get your data? How is your data stored and is it accessible (also in the future)?\n",
    "- Do you understand your data? Can you explain all the feature and instances (colummns and rows)? Can you visualize the charateristics of the data (also to others)?\n",
    "- What transformations or preparations are needed to make sure the data(set) is ready to be 'fed into' a ML model?\n",
    "    "
   ]
  },
  {
   "cell_type": "markdown",
   "id": "acc10260",
   "metadata": {},
   "source": [
    "## (from Phase 1) Data Sourcing"
   ]
  },
  {
   "cell_type": "markdown",
   "id": "18b25665",
   "metadata": {},
   "source": [
    "In phase 1 the Data Sourcing steps is meant to see if there is a suitable data source for the AI-project. This source is considered to contain, generate or stream the data needed to predict the target variable, using one or multiple machine learning algorithms/models. \n",
    "\n",
    "In this case, the source is already known and provided, but it is still advised to assess the origin of the data. Often, additional information about the dataset is provided. In this case you can find more information on the website of the UCI (University of California, Irvine) and in the Data Set Description file 'wines.names' (text file)."
   ]
  },
  {
   "cell_type": "markdown",
   "id": "3a42ba04",
   "metadata": {},
   "source": [
    "# Phase 2 Data Provisioning"
   ]
  },
  {
   "cell_type": "markdown",
   "id": "f12b564b",
   "metadata": {},
   "source": [
    "## Data requirements"
   ]
  },
  {
   "cell_type": "markdown",
   "id": "559f5cd1",
   "metadata": {},
   "source": [
    "The first step Data Requirements is mainly about what information is necessary to realise or support the goal of your project (what are you trying to predict or analyse?).\n",
    "\n",
    "### Required data elements\n"
   ]
  },
  {
   "cell_type": "code",
   "execution_count": null,
   "id": "ea85ff68",
   "metadata": {},
   "outputs": [],
   "source": [
    "#often no actual actions in Python are required in this step... \n",
    "#first set the requirements before collect/find the data..."
   ]
  },
  {
   "cell_type": "markdown",
   "id": "44657a41",
   "metadata": {},
   "source": [
    "A starting point to defining required data elements is to look at the target variable. Does  this variable have specific units, measures, ranges, ...? In this case, the author states in the description that these data are the results of a chemical analysis of wines grown in the same region in Italy but derived from three different cultivars. This is shown in the data in the first column (class) containing either value 1, 2 or 3. That means the data is labeled, something that is required for the choosen classification model. \n",
    "\n",
    "Besides the label, we need other characteristics of wines for classifying. I know wine contains alcohol, but in this case there is no need to think about more detailed and specific features, as there is a nice list of variables, as a result of the chemical analysis.\n",
    "\n"
   ]
  },
  {
   "cell_type": "markdown",
   "id": "8017dc39",
   "metadata": {},
   "source": [
    "### Data definition\n",
    "\n",
    "A list of features is provided, but it contains a lot of chemical or domain-specific terms. All this data resulted from a chemical analysis done on the wines grown in the same region of Italy, but are derived from 3 different cultivars (a plant variety that has been produced in cultivation by selective breeding). It is also the case this this datset probably had 30 instead 13 variables to begin with, but for some unknown reason 17 where lost, according to the creator of this dataset.\n",
    "\n",
    "Additionally, I have added some explanation on the meaning of the variables.\n",
    "\n",
    "(0) class: There are 3 classes, representing the 3 different cultivars.\n",
    "\n",
    "(1) Alcohol - The average glass of wine contains about 11 percent to 13 percent alcohol, but bottles range from as little as 5.5 percent ABV to as much as around 20 percent ABV (source: https://www.realsimple.com/holidays-entertaining/entertaining/food-drink/alcohol-content-wine)\n",
    "\n",
    "(2) Malic acid: It is a kind of acid with strong acidity and apple aroma. The red wine is naturally accompanied by malic acid. \n",
    "\n",
    "(3) Ash: The essence of ash is an inorganic salt, which has an effect on the overall flavor of the wine and can give the wine a fresh feeling. \n",
    "\n",
    "(4) Alkalinity of ash: It is a measure of weak alkalinity dissolved in water.\n",
    "\n",
    "(5) Magnesium: It is an essential element of the human body, which can promote energy metabolism and is weakly alkaline.\n",
    "\n",
    "(6) Total phenols: molecules containing polyphenolic substances, which have a bitter taste and affect the taste, color and taste of the wine, and belong to the nutrients in the wine.\n",
    "\n",
    "(7) Flavanoids: It is a beneficial antioxidant for the heart and anti-aging, rich in aroma and bitter.\n",
    "\n",
    "(8) Nonflavanoid phenols: It is a special aromatic gas with oxidation resistance and is weakly acidic. \n",
    "\n",
    "(9) Proanthocyanins: It is a bioflavonoid compound, which is also a natural antioxidant with a slight bitter smell. \n",
    "\n",
    "(10) Color intensity: refers to the degree of color shade. It is used to measure the style of wine to be “light” or “thick”. The color intensity is high, meanwhile the longer the wine and grape juice are in contact during the wine making process, the thicker the taste.\n",
    "\n",
    "(11) Hue: refers to the vividness of the color and the degree of warmth and coldness. It can be used to measure the variety and age of the wine. Red wines with higher ages will have a yellow hue and increased transparency. Color intensity and hue are important indicators for evaluating the quality of a wine's appearance.\n",
    "\n",
    "(12) OD280/OD315 of diluted wines: This is a method for determining the protein concentration, which can determine the protein content of various wines.\n",
    "\n",
    "(13) Proline: It is the main amino acid in red wine and an important part of the nutrition and flavor of wine."
   ]
  },
  {
   "cell_type": "markdown",
   "id": "9d50957d",
   "metadata": {},
   "source": [
    "Often a dataset is already provided, but one should look beyond the given data and features. Data requirements can also address data elements that are not part of a given dataset. \n",
    "In this case, as I'm no expert on wines, the data is entirely numerical, so my additional requirements  would be that these wines would also have a name/title, names of grape(s) used, or other readable notes, so it is a little bit easier to understand what we're talking about.  Furthermore, I don't know how accurate or old this data is, the chemical analysis might performed on a very outdated machine, or maybe it's results are not even real (plainly generatated). These can also be requirements (although we know it will not going to be in the data, as the dataset is already given and very limited). \n"
   ]
  },
  {
   "cell_type": "markdown",
   "id": "4d886f48",
   "metadata": {},
   "source": [
    "## Data Collection"
   ]
  },
  {
   "cell_type": "markdown",
   "id": "c405e274",
   "metadata": {},
   "source": [
    "This data is available at the site of UCI Machine Learning Repository: https://archive.ics.uci.edu/dataset/109/wine. I have downloaded the dataset as a csv file. "
   ]
  },
  {
   "cell_type": "code",
   "execution_count": null,
   "id": "e24187b5",
   "metadata": {},
   "outputs": [],
   "source": [
    "#Import libraries\n",
    "import numpy as np \n",
    "import pandas as pd # data processing, CSV file I/O (e.g. pd.read_csv)\n",
    "import seaborn as sns\n",
    "import matplotlib.pyplot as plt\n"
   ]
  },
  {
   "cell_type": "code",
   "execution_count": null,
   "id": "a47fb304",
   "metadata": {},
   "outputs": [],
   "source": [
    "# Read the data. Know that there are many useful parameter to improve/optimize the way the data is being read\n",
    "# into a dataframe. You can define the delimiter or decimal character, to get correct data values.\n",
    "winedata_names = [\"class\", \"alcohol\", \"malic acid\", \"ash\", \"alcalinity of ash\", \"magnesium\", \"total phenols\", \"flavanoids\", \"nonflavanoid phenols\", \"proanthocyanins\", \"color intensity\", \"hue\", \"OD280/OD315 of diluted wines\", \"proline\"]\n",
    "winedata = pd.read_csv('wine.data', sep=\",\", names=winedata_names)\n",
    "winedata.head()"
   ]
  },
  {
   "cell_type": "code",
   "execution_count": null,
   "id": "650fd62e",
   "metadata": {},
   "outputs": [],
   "source": [
    "# Giving the columns names (of the features) makes it much more clear and readable (names available at the website)\n",
    "winedata.columns= ['class','alcohol','malic acid','ash','alcalinity of ash','magnesium','total phenols','flavanoids','nonflavanoid phenols','proanthocyanins','color intersity','hue','OD280/OD315 of diluted wines','proline']\n",
    "winedata"
   ]
  },
  {
   "cell_type": "markdown",
   "id": "90971670",
   "metadata": {},
   "source": [
    "The dataset is not likely to change, so I will keep not a version or change record. "
   ]
  },
  {
   "cell_type": "markdown",
   "id": "5a9281de",
   "metadata": {},
   "source": [
    "## Data Understanding\n",
    "\n",
    "\n",
    "### Exploratory Data Analysis\n",
    "\n"
   ]
  },
  {
   "cell_type": "code",
   "execution_count": null,
   "id": "1a1197ac",
   "metadata": {
    "scrolled": true
   },
   "outputs": [],
   "source": [
    "# Start with looking at some general statistics of the features. In this case all values are numerical, in order\n",
    "# to get statistics on categorical data, you need to add the 'include' parameter.\n",
    "winedata.describe()"
   ]
  },
  {
   "cell_type": "markdown",
   "id": "c7d9ab2d",
   "metadata": {},
   "source": [
    "We can start with checking (scanning) the general features of the dataset. There are 177 lines of data, and each feature has its specific characteristics. "
   ]
  },
  {
   "cell_type": "markdown",
   "id": "cd85183e",
   "metadata": {},
   "source": [
    "As a first attempt to improve the data requirements, I have tried to add units and ranges to the data definition. It can also help to check the consistency and validity of the data.\n",
    "\n",
    "(0) class: in this case, there are 3 classes, indicated by [1, 2, 3]. \n",
    "\n",
    "(1) Alcohol - in the dataset everything is between 11 and 15. which falls in the unfortified wines category of the ABV.\n",
    "\n",
    "(2) Malic acid: Ranges between 0,74 and 5,8. After a bit of research on malic acid in wines, the common range appears to be 0-8 (according to https://waterhouse.ucdavis.edu/whats-in-wine/fixed-acidity).\n",
    "\n",
    "(3) Ash: It normally lays between 1.3 and 3.5 and in our data it does as well [1,36-3,23] (source: https://www.institut-heidger.de/ash-gravimetric-calculated-from-minerals-alkalinity-of-ash/?lang=en)\n",
    "\n",
    "(4) Alkalinity of ash: Our data ranged from 10.6 to 30. The alkalinity of ash is expressed in milliequivalents per litre or in grams per litre of potassium carbonate (source: https://www.institut-heidger.de/ash-gravimetric-calculated-from-minerals-alkalinity-of-ash/?lang=en).\n",
    "\n",
    "(5) Magnesium: Typically these values range between 50-200 and in this case it is between 70 and 162.\n",
    "\n",
    "(6) Total phenols: Our data ranges from 0.98 to 3.88.\n",
    "\n",
    "(7) Flavanoids: Our data ranges from 0.34 to 5.08,\n",
    "\n",
    "(8) Nonflavanoid phenols: Our data ranges from 0.13 to 0.66.\n",
    "\n",
    "(9) Proanthocyanins: Our data ranges from 0.41 to 3.58\n",
    "\n",
    "(10) Color intensity: Our data ranges from 1.28 to 13\n",
    "\n",
    "(11) Hue: Our data ranges from 0.48 to 1.71\n",
    "\n",
    "(12) Our data ranges from 1.27 to 4\n",
    "\n",
    "(13) Proline: Our data ranges from 278 to 1680"
   ]
  },
  {
   "cell_type": "code",
   "execution_count": null,
   "id": "89b30493",
   "metadata": {},
   "outputs": [],
   "source": [
    "winedata.info()"
   ]
  },
  {
   "cell_type": "code",
   "execution_count": null,
   "id": "0394d9b1",
   "metadata": {},
   "outputs": [],
   "source": [
    "#visualising the data elements (features)\n",
    "sns.set(style='darkgrid',font_scale=1.3, rc={'figure.figsize':(25,25)})\n",
    "ax=winedata.hist(bins=20,color='brown' )\n"
   ]
  },
  {
   "cell_type": "code",
   "execution_count": null,
   "id": "98c28cd8",
   "metadata": {},
   "outputs": [],
   "source": [
    "# beware that (bin) size does matter! \n",
    "# 'play' a bit with bin sizes to see the differences and the best fitting size (or you might miss patterns in the data)\n",
    "plt.hist([winedata['proline']], bins= 5, alpha=1, label='bin size = 5')\n",
    "plt.hist([winedata['proline']], bins= 20, alpha=0.8, label='bin size = 20')\n",
    "plt.hist([winedata['proline']], bins= 60, alpha=0.5, label='bin size = 60')\n",
    "plt.legend(loc='upper right')\n",
    "plt.show()"
   ]
  },
  {
   "cell_type": "markdown",
   "id": "dcc68b7b",
   "metadata": {},
   "source": [
    "Understanding / Preparing (see the corelation to the target variable....)"
   ]
  },
  {
   "cell_type": "code",
   "execution_count": null,
   "id": "a7ecf265",
   "metadata": {},
   "outputs": [],
   "source": [
    "winedata.boxplot(column='alcohol', by='class', figsize=(10,10));"
   ]
  },
  {
   "cell_type": "code",
   "execution_count": null,
   "id": "a7e4b52d",
   "metadata": {},
   "outputs": [],
   "source": [
    "#to show the impact of value ranges, we'll plot 2 features in a boxplot.\n",
    "#select the vlaues of 2 columns\n",
    "wine_features = tuple(winedata.columns[[8, 13]].values)\n",
    "winedata.boxplot(column=wine_features, by='class', figsize=(10,10));"
   ]
  },
  {
   "cell_type": "markdown",
   "id": "cb6c6293",
   "metadata": {},
   "source": [
    "It is clearly visible in the boxplots above, that scaling is required to compare features (visually, but it can also have an impact at the model)."
   ]
  },
  {
   "cell_type": "code",
   "execution_count": null,
   "id": "8823f5ac",
   "metadata": {},
   "outputs": [],
   "source": [
    "# scatterplots can be used to combine an dplot several features as datapoints (ideally numerical) to see patterns \n",
    "sns.scatterplot(data=winedata, x='alcohol', y='proline', hue='class', palette='viridis')"
   ]
  },
  {
   "cell_type": "markdown",
   "id": "253dd13c",
   "metadata": {},
   "source": [
    "In the scatterplot above you can see that using the alcohol and proline feature already gives a first impression\n",
    "of the clusters of datapoints per class. "
   ]
  },
  {
   "cell_type": "code",
   "execution_count": null,
   "id": "0819500d",
   "metadata": {},
   "outputs": [],
   "source": [
    "plt.figure(figsize=(10, 10))\n",
    "# to leave out double values in the matrix, you can create a maskfor  the lower half of the matrix\n",
    "mask = np.tril(winedata.corr())\n",
    "#create a correlation matrix, specificing the color scheme, displaying the values in the cells, ...\n",
    "# check https://seaborn.pydata.org/generated/seaborn.heatmap.html for all parameters and settings.\n",
    "sns.heatmap(winedata.corr(), cmap=\"coolwarm\", annot=True, fmt='.1g', linewidth=.5, square=True, mask=mask);"
   ]
  },
  {
   "cell_type": "markdown",
   "id": "075fd9ae",
   "metadata": {},
   "source": [
    "A correlation matrix can be very convenient to (quickly) see or show the correlation between features. This might help to select features, but also to rule out coincidental relations: having a high correlation might be useful and help you to understand the data and context, it can also mean you are looking at similar aspects, without any real added value or new information (e.g. age and data of birth, or price and VAT... ).\n",
    "\n",
    "In this case the high correlation values related to the class variable indicate useful features to include in the modelling phase. In addition to the visual exploration of features also revealed, phenols and flavanoids are potentially good features to use in the Nearest Neighbour model.  "
   ]
  },
  {
   "cell_type": "markdown",
   "id": "0d0d9d9f",
   "metadata": {},
   "source": [
    "## Data Preparation\n",
    "in this notebook I will keep this section very limited. The data is numerical, which makes it suitable as input to train the kNN model. Missing or corrupt values might cause issues in the modelling phase, so I'll (quickly0 check this:"
   ]
  },
  {
   "cell_type": "code",
   "execution_count": null,
   "id": "d01e8a2f",
   "metadata": {},
   "outputs": [],
   "source": [
    "# are there any empty (missing) values? Keep in mind that N/A or null is not the only way to have missing values..\n",
    "winedata.isnull().sum()\n",
    "\n",
    "#you might check for 0 or '' values as well -> (winedata==0).sum()\n"
   ]
  },
  {
   "cell_type": "markdown",
   "id": "eca7bada",
   "metadata": {},
   "source": [
    "There are no null values in the data. In the EDA section we have already looked for odd or incorrect values, such as negative or extreme values. So in short, I conclude the data is okay to use for modelling and we can proceed to the next phase (3). "
   ]
  },
  {
   "cell_type": "markdown",
   "id": "4c2bf342",
   "metadata": {},
   "source": [
    " ## Rating\n",
    " To complete this exercise determine for each step in phase 2 its strengths and the room for improvement:\n",
    " \n",
    " \n",
    " <div class=\"alert alert-block alert-success\">\n",
    "    <table><tr><td>\n",
    "        <b>Phase 2 steps</b></td>\n",
    "        <td><b>Strengths</b> </td>\n",
    "        <td><b>Improvements</b> </td></tr>   \n",
    "    <tr><td> Data Requirements</td>\n",
    "        <td> I think they did well explaining what each wine feature means and why we need 3 classes for classification. They also mentioned that having wine names would be helpful.</td>\n",
    "        <td> They should have talked more about how much data we actually need and what quality standards to use. Also missing discussion about whether these features are enough for good classification.</td></tr>  \n",
    "    <tr><td> Data Collection</td>\n",
    "        <td> Good that they showed where the data comes from (UCI) and explained the column naming. I liked that they were honest about missing 17 variables from the original dataset.</td>\n",
    "        <td> They didn't check if the data collection method was reliable or if there might be bias in how wines were selected. No plan for updating data in the future.</td></tr>\n",
    "    <tr><td> Data Understanding</td>\n",
    "        <td> Really good use of different charts - histograms, boxplots, scatterplots and correlation matrix. They checked if the data ranges make sense for real wine values. The visualizations clearly show differences between wine classes.  </td>\n",
    "        <td> They didn't look at whether we have equal amounts of each wine class. Could have done more to find outliers systematically. The correlation analysis was basic - could explore feature combinations more.  </td></tr>\n",
    "    <tr><td> Data Preparation</td>\n",
    "        <td> They checked for missing values which is important. Recognized that the data is already in numerical format which works for machine learning. Noticed from the boxplots that scaling would be needed.</td>\n",
    "        <td> They identified problems but didn't actually fix them. Should have scaled the features since they have very different ranges. Didn't handle any outliers even though some were visible in the plots.</td></tr>\n",
    "    </table>\n",
    "    \n",
    "</div>\n",
    "\n",
    "Hint: determine first for yourself what criteria you would select for each to determine whether it be sufficient.\n",
    "\n",
    "\n",
    " "
   ]
  },
  {
   "cell_type": "markdown",
   "id": "71d1fa54",
   "metadata": {},
   "source": [
    "# Key Learning Points from This Assignment\n",
    "\n",
    "## 1. Systematic Methodology is Essential\n",
    "Data provisioning requires a structured approach with clear phases: requirements definition, collection, understanding, and preparation. Each phase builds upon the previous one and contributes to overall project success.\n",
    "\n",
    "## 2. Domain Knowledge Matters\n",
    "Understanding the context (wine chemistry, industry standards) was crucial for validating data ranges and interpreting features meaningfully. This principle applies to any domain.\n",
    "\n",
    "## 3. Visualization Reveals Insights\n",
    "Multiple visualization techniques (histograms, boxplots, correlation matrices, scatterplots) each provided different perspectives on the data, revealing patterns that wouldn't be obvious from statistics alone.\n",
    "\n",
    "## 4. Data Quality Assessment is Critical\n",
    "Even with a \"clean\" dataset, systematic checks for missing values, outliers, and inconsistencies are necessary before modeling.\n",
    "\n",
    "## 5. Feature Relationships Guide Model Selection\n",
    "The correlation analysis and scatterplots showed clear class separability, indicating that the features are suitable for classification tasks like k-NN.\n",
    "\n",
    "# Application to Future Projects\n",
    "\n",
    "## For My Movie Success Prediction Project\n",
    "\n",
    "Based on this wine data provisioning exercise, I now understand the importance of:\n",
    "\n",
    "**Systematic Data Requirements Planning**: I will clearly define what constitutes movie \"success\" (flop, break-even, hit) and identify all necessary features (budget, revenue, cast, director, genre, etc.) before data collection.\n",
    "\n",
    "**Thorough Data Understanding**: I will perform comprehensive EDA on the movie dataset, using multiple visualization techniques to understand feature distributions, correlations, and patterns that might influence success prediction.\n",
    "\n",
    "**Proper Data Preparation**: I will systematically clean the movie data, handle missing values appropriately, and prepare features for modeling based on insights from the exploratory analysis.\n",
    "\n",
    "**Documentation and Validation**: I will document all data sources, transformations, and decisions made during the provisioning process, ensuring reproducibility and transparency.\n",
    "\n",
    "# Conclusion\n",
    "\n",
    "This wine data provisioning assignment provided hands-on experience with the complete data provisioning methodology. The structured approach of requirements definition, collection, understanding, and preparation creates a solid foundation for any machine learning project.\n",
    "\n",
    "The key insight is that data provisioning is not just about getting data into a usable format - it's about deeply understanding the data, its context, and its suitability for the intended modeling task. The visualizations and statistical analyses revealed important characteristics like class separability and feature relationships that will directly influence model selection and performance.\n",
    "\n",
    "I will apply these same systematic data provisioning principles to my movie success prediction project, ensuring thorough understanding and preparation of the movie dataset before proceeding to the modeling phase. This foundation will be essential for building a reliable and interpretable movie success prediction system."
   ]
  }
 ],
 "metadata": {
  "kernelspec": {
   "display_name": "Python 3",
   "language": "python",
   "name": "python3"
  },
  "language_info": {
   "codemirror_mode": {
    "name": "ipython",
    "version": 3
   },
   "file_extension": ".py",
   "mimetype": "text/x-python",
   "name": "python",
   "nbconvert_exporter": "python",
   "pygments_lexer": "ipython3",
   "version": "3.13.7"
  }
 },
 "nbformat": 4,
 "nbformat_minor": 5
}
